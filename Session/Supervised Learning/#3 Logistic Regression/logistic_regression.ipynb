{
 "cells": [
  {
   "cell_type": "markdown",
   "metadata": {
    "collapsed": false
   },
   "source": [
    "# Session 3 - 논리 회귀 구현하기\n",
    "\n",
    "손실을 줄일 수 있는 모델을 찾기 전에 머신 러닝에서 가장 대표적인 기능인 분류를 해볼 것이다. 분류는 말 그대로 여러 특성 데이터들 중에서 일정한 기준에 따라 나누는 것인데 예를 들어 이 문서에서는 합격자와 불합격자를 점수에 따라 분류한다. 여기서는 가장 기본적인 로지스틱 회귀에 대해서 살펴볼 것이다."
   ]
  },
  {
   "cell_type": "code",
   "execution_count": 5,
   "metadata": {
    "collapsed": false
   },
   "outputs": [],
   "source": [
    "import pandas as pd\n",
    "import numpy as np\n",
    "from sklearn.linear_model import LogisticRegression\n",
    "from sklearn.cross_validation import train_test_split\n",
    "import matplotlib.pyplot as plt"
   ]
  },
  {
   "cell_type": "markdown",
   "metadata": {},
   "source": [
    "## 데이터 추출하기"
   ]
  },
  {
   "cell_type": "code",
   "execution_count": 6,
   "metadata": {
    "collapsed": false
   },
   "outputs": [
    {
     "data": {
      "text/html": [
       "<div>\n",
       "<table border=\"1\" class=\"dataframe\">\n",
       "  <thead>\n",
       "    <tr style=\"text-align: right;\">\n",
       "      <th></th>\n",
       "      <th>Time</th>\n",
       "      <th>Score</th>\n",
       "      <th>Pass</th>\n",
       "    </tr>\n",
       "  </thead>\n",
       "  <tbody>\n",
       "    <tr>\n",
       "      <th>count</th>\n",
       "      <td>100.000000</td>\n",
       "      <td>100.000000</td>\n",
       "      <td>100.000000</td>\n",
       "    </tr>\n",
       "    <tr>\n",
       "      <th>mean</th>\n",
       "      <td>11.850460</td>\n",
       "      <td>47.912850</td>\n",
       "      <td>0.380000</td>\n",
       "    </tr>\n",
       "    <tr>\n",
       "      <th>std</th>\n",
       "      <td>6.794077</td>\n",
       "      <td>28.934828</td>\n",
       "      <td>0.487832</td>\n",
       "    </tr>\n",
       "    <tr>\n",
       "      <th>min</th>\n",
       "      <td>0.310000</td>\n",
       "      <td>0.688000</td>\n",
       "      <td>0.000000</td>\n",
       "    </tr>\n",
       "    <tr>\n",
       "      <th>25%</th>\n",
       "      <td>6.972500</td>\n",
       "      <td>25.450000</td>\n",
       "      <td>0.000000</td>\n",
       "    </tr>\n",
       "    <tr>\n",
       "      <th>50%</th>\n",
       "      <td>12.200000</td>\n",
       "      <td>45.500000</td>\n",
       "      <td>0.000000</td>\n",
       "    </tr>\n",
       "    <tr>\n",
       "      <th>75%</th>\n",
       "      <td>16.500000</td>\n",
       "      <td>69.125000</td>\n",
       "      <td>1.000000</td>\n",
       "    </tr>\n",
       "    <tr>\n",
       "      <th>max</th>\n",
       "      <td>24.900000</td>\n",
       "      <td>112.000000</td>\n",
       "      <td>1.000000</td>\n",
       "    </tr>\n",
       "  </tbody>\n",
       "</table>\n",
       "</div>"
      ],
      "text/plain": [
       "             Time       Score        Pass\n",
       "count  100.000000  100.000000  100.000000\n",
       "mean    11.850460   47.912850    0.380000\n",
       "std      6.794077   28.934828    0.487832\n",
       "min      0.310000    0.688000    0.000000\n",
       "25%      6.972500   25.450000    0.000000\n",
       "50%     12.200000   45.500000    0.000000\n",
       "75%     16.500000   69.125000    1.000000\n",
       "max     24.900000  112.000000    1.000000"
      ]
     },
     "execution_count": 6,
     "metadata": {},
     "output_type": "execute_result"
    }
   ],
   "source": [
    "dataset = pd.read_csv('student_score.csv')\n",
    "dataset.describe()"
   ]
  },
  {
   "cell_type": "code",
   "execution_count": 7,
   "metadata": {
    "collapsed": false
   },
   "outputs": [],
   "source": [
    "x = dataset.iloc[:, [0, 1]].values\n",
    "y = dataset.iloc[:, 2]\n",
    "\n",
    "x_train, x_test, y_train, y_test = train_test_split(x, y, test_size=0.2)"
   ]
  },
  {
   "cell_type": "markdown",
   "metadata": {},
   "source": [
    "## 논리 모델 학습시키기"
   ]
  },
  {
   "cell_type": "code",
   "execution_count": 8,
   "metadata": {
    "collapsed": false
   },
   "outputs": [
    {
     "data": {
      "text/plain": [
       "LogisticRegression(C=1.0, class_weight=None, dual=False, fit_intercept=True,\n",
       "          intercept_scaling=1, max_iter=100, multi_class='ovr', n_jobs=1,\n",
       "          penalty='l2', random_state=None, solver='liblinear', tol=0.0001,\n",
       "          verbose=0, warm_start=False)"
      ]
     },
     "execution_count": 8,
     "metadata": {},
     "output_type": "execute_result"
    }
   ],
   "source": [
    "logic_reg = LogisticRegression()\n",
    "logic_reg.fit(x_train, y_train)"
   ]
  },
  {
   "cell_type": "markdown",
   "metadata": {},
   "source": [
    "## 테스트 데이터로 검증하기"
   ]
  },
  {
   "cell_type": "code",
   "execution_count": 14,
   "metadata": {
    "collapsed": false
   },
   "outputs": [
    {
     "name": "stdout",
     "output_type": "stream",
     "text": [
      "67     True\n",
      "3      True\n",
      "65     True\n",
      "7      True\n",
      "48     True\n",
      "1      True\n",
      "44     True\n",
      "80     True\n",
      "21     True\n",
      "39     True\n",
      "13    False\n",
      "56     True\n",
      "91     True\n",
      "19     True\n",
      "32     True\n",
      "78     True\n",
      "8      True\n",
      "37     True\n",
      "58     True\n",
      "57     True\n",
      "Name: Pass, dtype: bool\n"
     ]
    }
   ],
   "source": [
    "pred = logic_reg.predict(x_test)\n",
    "print(pred == y_test)"
   ]
  },
  {
   "cell_type": "markdown",
   "metadata": {},
   "source": [
    "아쉽게도 한 특성에서 빗나갔지만 손실이 거의 없는 완벽한 모델임을 알 수 있다."
   ]
  },
  {
   "cell_type": "markdown",
   "metadata": {},
   "source": [
    "## 시각화하기"
   ]
  },
  {
   "cell_type": "code",
   "execution_count": 18,
   "metadata": {
    "collapsed": false
   },
   "outputs": [
    {
     "data": {
      "image/png": "[encoded data removed]",
      "text/plain": [
       "<matplotlib.figure.Figure at 0x212dfd5df60>"
      ]
     },
     "metadata": {},
     "output_type": "display_data"
    }
   ],
   "source": [
    "test = y[:] > 0\n",
    "test = test.to_dict()\n",
    "\n",
    "_pass = [x for x in test if test[x] == True]\n",
    "_fail = [x for x in test if test[x] == False]\n",
    "\n",
    "w = logic_reg.coef_[0]\n",
    "a = -w[0] / w[1]\n",
    "x_boundary = np.linspace(-5, 25)\n",
    "y_boundary = a * x_boundary - (logic_reg.intercept_[0]) / w[1]\n",
    "\n",
    "%matplotlib inline\n",
    "plt.scatter(x[_pass, 0], x[_pass, 1], c=\"g\", marker=\"+\")\n",
    "plt.scatter(x[_fail, 0], x[_fail, 1], c=\"r\", marker=\"x\")\n",
    "plt.plot(x_boundary, y_boundary, 'y-')\n",
    "plt.show()"
   ]
  },
  {
   "cell_type": "markdown",
   "metadata": {
    "collapsed": true
   },
   "source": [
    "이와 같이 로지스틱 회귀에서 다음과 같이 분류하였음을 알 수 있다. 비록 일부 불합격자를 잘못 분류하였으나 앞으로의 다른 검증 데이터를 통해 학습을 해야 하므로 과대적합을 막은 일반화된 모델이라고 분석할 수 있다."
   ]
  },
  {
   "cell_type": "code",
   "execution_count": null,
   "metadata": {
    "collapsed": true
   },
   "outputs": [],
   "source": []
  }
 ],
 "metadata": {
  "anaconda-cloud": {},
  "kernelspec": {
   "display_name": "Python [conda root]",
   "language": "python",
   "name": "conda-root-py"
  },
  "language_info": {
   "codemirror_mode": {
    "name": "ipython",
    "version": 3
   },
   "file_extension": ".py",
   "mimetype": "text/x-python",
   "name": "python",
   "nbconvert_exporter": "python",
   "pygments_lexer": "ipython3",
   "version": "3.5.2"
  }
 },
 "nbformat": 4,
 "nbformat_minor": 1
}
